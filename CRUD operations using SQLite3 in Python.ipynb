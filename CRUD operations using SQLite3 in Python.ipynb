{
 "cells": [
  {
   "cell_type": "code",
   "execution_count": 1,
   "id": "9762a762",
   "metadata": {
    "scrolled": true
   },
   "outputs": [
    {
     "name": "stdout",
     "output_type": "stream",
     "text": [
      "Data in the table:\n",
      "(1, 'Alice', 25)\n",
      "(2, 'Bob', 30)\n",
      "\n",
      "Updated data in the table:\n",
      "(1, 'Alicia', 26)\n",
      "(2, 'Bob', 30)\n",
      "\n",
      "Data after deleting record with ID 2:\n",
      "(1, 'Alicia', 26)\n"
     ]
    }
   ],
   "source": [
    "import sqlite3\n",
    "\n",
    "# Connect to the SQLite database (it will create the database if it doesn't exist)\n",
    "conn = sqlite3.connect('mydatabase.db')\n",
    "cursor = conn.cursor()\n",
    "\n",
    "# Create a dummy table\n",
    "cursor.execute('''\n",
    "    CREATE TABLE IF NOT EXISTS my_table (\n",
    "        id INTEGER PRIMARY KEY,\n",
    "        name TEXT,\n",
    "        age INTEGER\n",
    "    )\n",
    "''')\n",
    "\n",
    "# Commit the changes and close the connection\n",
    "conn.commit()\n",
    "conn.close()\n",
    "\n",
    "# Function to insert data into the table\n",
    "def insert_data(name, age):\n",
    "    conn = sqlite3.connect('mydatabase.db')\n",
    "    cursor = conn.cursor()\n",
    "    cursor.execute('INSERT INTO my_table (name, age) VALUES (?, ?)', (name, age))\n",
    "    conn.commit()\n",
    "    conn.close()\n",
    "\n",
    "# Function to retrieve data from the table\n",
    "def select_data():\n",
    "    conn = sqlite3.connect('mydatabase.db')\n",
    "    cursor = conn.cursor()\n",
    "    cursor.execute('SELECT * FROM my_table')\n",
    "    data = cursor.fetchall()\n",
    "    conn.close()\n",
    "    return data\n",
    "\n",
    "# Function to update data in the table\n",
    "def update_data(id, name, age):\n",
    "    conn = sqlite3.connect('mydatabase.db')\n",
    "    cursor = conn.cursor()\n",
    "    cursor.execute('UPDATE my_table SET name = ?, age = ? WHERE id = ?', (name, age, id))\n",
    "    conn.commit()\n",
    "    conn.close()\n",
    "\n",
    "# Function to delete data from the table\n",
    "def delete_data(id):\n",
    "    conn = sqlite3.connect('mydatabase.db')\n",
    "    cursor = conn.cursor()\n",
    "    cursor.execute('DELETE FROM my_table WHERE id = ?', (id,))\n",
    "    conn.commit()\n",
    "    conn.close()\n",
    "\n",
    "# Example usage\n",
    "insert_data('Alice', 25)\n",
    "insert_data('Bob', 30)\n",
    "\n",
    "data = select_data()\n",
    "print(\"Data in the table:\")\n",
    "for row in data:\n",
    "    print(row)\n",
    "\n",
    "update_data(1, 'Alicia', 26)\n",
    "\n",
    "data = select_data()\n",
    "print(\"\\nUpdated data in the table:\")\n",
    "for row in data:\n",
    "    print(row)\n",
    "\n",
    "delete_data(2)\n",
    "\n",
    "data = select_data()\n",
    "print(\"\\nData after deleting record with ID 2:\")\n",
    "for row in data:\n",
    "    print(row)\n"
   ]
  },
  {
   "cell_type": "markdown",
   "id": "04c093a3",
   "metadata": {},
   "source": [
    "This code creates a SQLite database named mydatabase.db, defines a table named my_table, and provides functions for inserting, selecting, updating, and deleting data in the table."
   ]
  },
  {
   "attachments": {
    "image.png": {
     "image/png": "[encoded data removed]"
    }
   },
   "cell_type": "markdown",
   "id": "923b389f",
   "metadata": {},
   "source": [
    "- We can download and install SQLite from https://www.sqlite.org/download.html\n",
    "- Then we need to connect the same on our Windows Command Prompt Terminal\n",
    "![image.png](attachment:image.png)"
   ]
  }
 ],
 "metadata": {
  "kernelspec": {
   "display_name": "Python 3",
   "language": "python",
   "name": "python3"
  },
  "language_info": {
   "codemirror_mode": {
    "name": "ipython",
    "version": 3
   },
   "file_extension": ".py",
   "mimetype": "text/x-python",
   "name": "python",
   "nbconvert_exporter": "python",
   "pygments_lexer": "ipython3",
   "version": "3.8.8"
  }
 },
 "nbformat": 4,
 "nbformat_minor": 5
}
